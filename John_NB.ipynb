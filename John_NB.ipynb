{
  "nbformat": 4,
  "nbformat_minor": 0,
  "metadata": {
    "colab": {
      "name": "John_NB.ipynb",
      "provenance": [],
      "collapsed_sections": [],
      "mount_file_id": "18HbejHzr0Y4mfj1m8FEABbQaGH3QPBW0",
      "authorship_tag": "ABX9TyM8F39ANVHLupYJDxMEOM9u",
      "include_colab_link": true
    },
    "kernelspec": {
      "name": "python3",
      "display_name": "Python 3"
    }
  },
  "cells": [
    {
      "cell_type": "markdown",
      "metadata": {
        "id": "view-in-github",
        "colab_type": "text"
      },
      "source": [
        "<a href=\"https://colab.research.google.com/github/jxs203/DRONES/blob/master/John_NB.ipynb\" target=\"_parent\"><img src=\"https://colab.research.google.com/assets/colab-badge.svg\" alt=\"Open In Colab\"/></a>"
      ]
    },
    {
      "cell_type": "markdown",
      "metadata": {
        "id": "XR1rea8T_Y-5"
      },
      "source": [
        "#  Delivery\n",
        "#### Kaggle competition \n",
        "\n",
        "\n",
        "https://www.kaggle.com/c/hashcode-drone-delivery\n"
      ]
    },
    {
      "cell_type": "code",
      "metadata": {
        "id": "yXlZQMFv9JCU"
      },
      "source": [
        "# All the imports \n",
        "import os\n",
        "import numpy as np\n",
        "import matplotlib.pyplot as plt"
      ],
      "execution_count": null,
      "outputs": []
    },
    {
      "cell_type": "code",
      "metadata": {
        "id": "wqonL5fGbWhk"
      },
      "source": [
        "def get_dist(obj_1, obj_2):\n",
        "  return np.linalg.norm(obj_1.coords - obj_2.coords)"
      ],
      "execution_count": null,
      "outputs": []
    },
    {
      "cell_type": "code",
      "metadata": {
        "id": "RoZvl3A26lDO"
      },
      "source": [
        "class Simulation():\n",
        "  \"\"\"Class containing the simulation definition\"\"\"\n",
        "  def __init__(self, \n",
        "               n_rows: int, \n",
        "               n_columns:int, \n",
        "               D: int, \n",
        "               deadline: int, \n",
        "               D_max_load: int,\n",
        "               ) -> None:\n",
        "    self.n_rows = n_rows\n",
        "    self.n_columns = n_columns\n",
        "    self.D = D\n",
        "    self.deadline = deadline\n",
        "    self.D_max_load = D_max_load\n",
        "\n",
        "    self.product_weights = []\n",
        "\n",
        "    self.warehouses = []\n",
        "    self.orders = []\n",
        "\n",
        "    self.step = 0\n",
        "\n",
        "  @property\n",
        "  def n_products(self) -> int:\n",
        "    return len(self.product_weights)\n",
        "\n",
        "  @property\n",
        "  def n_warehouses(self) -> int:\n",
        "    return len(self.warehouses)\n",
        "\n",
        "  @property\n",
        "  def n_orders(self) -> int:\n",
        "    return len(self.orders)\n",
        "\n",
        "  def __repr__(self)->str:\n",
        "    out_str  = f\"Rows: {self.n_rows}\\nColumns: {self.n_columns}\\n\"\n",
        "    out_str += f\"Drones: {self.D}\\nDeadline: {self.deadline}\\n\"\n",
        "    out_str += f\"Max Load: {self.D_max_load}\\nN products: {self.n_products}\\n\"\n",
        "    out_str += f\"N warehouses: {self.n_warehouses}\\nN orders: {self.n_orders}\"\n",
        "    \n",
        "    return out_str\n",
        "\n",
        "  def assign_orders(self):\n",
        "    pass\n",
        "\n",
        "class Warehouse():\n",
        "  def __init__(self, coords: list, stock: list, id: int) -> None:\n",
        "    self.coords = np.array(coords)\n",
        "    self.stock = stock\n",
        "    self.id = id\n",
        "\n",
        "  def __repr__(self) -> None:\n",
        "    out_str  = f\"Warehouse {self.id}\\nLocated at:{self.coords}\\n\"\n",
        "    out_str += f\"Stock:{self.stock}\\n\"\n",
        "    return out_str\n",
        "\n",
        "class CustomerOrder():\n",
        "  def __init__(self, coords, products, id: int):\n",
        "    self.coords = np.array(coords, dtype=int)\n",
        "    self.products = products\n",
        "    self.id = id\n",
        "\n",
        "  @property\n",
        "  def N_items(self)-> int:\n",
        "    return len(self.products)\n",
        "\n",
        "  def __repr__(self) -> None:\n",
        "    out_str  = f\"CustomerOrder {self.id}\\nLocated at:{self.coords}\\n\"\n",
        "    out_str += f\"Products:{self.products}\\n\"\n",
        "    return out_str\n",
        "\n",
        "\n",
        "class InputFileParser():\n",
        "  \"\"\"\n",
        "  Loads the datafile d_fn with format as specified in hashcode_delivery_instructions.pdf\n",
        "  \n",
        "  Args: \n",
        "    d_fn (str): The filepath (absolute or relative) pointing to the data file\n",
        "  \n",
        "  Returns: \n",
        "    something (): Simulation definition object?\n",
        "    P_weights (list[int]): Item weights\n",
        "\n",
        "\n",
        "  Example: \n",
        "    parser = InputFileParser()\n",
        "    # create object\n",
        "    my_data = parser(\"path_to_datafile.csv\")\n",
        "    # Call as if it were a function\n",
        "\n",
        "  \"\"\"\n",
        "  def __call__(self, d_fn)-> tuple:\n",
        "    raw_data = self.load_data_file(d_fn)\n",
        "    \n",
        "    data = self.clean_raw_data(raw_data)\n",
        "    return self.parse_data(data)\n",
        "\n",
        "  def load_data_file(self, d_fn: str)-> list:\n",
        "    fn = os.path.abspath(d_fn)\n",
        "    with open(fn) as _f:\n",
        "      rawdata = _f.readlines()\n",
        "    return rawdata\n",
        "\n",
        "  def clean_raw_data(self, rawdata: list) -> list:\n",
        "    clean_data = []\n",
        "    for line in rawdata: \n",
        "      line = line.strip()\n",
        "      line = [int(x) for x in line.split(\" \")]\n",
        "      clean_data.append(line)\n",
        "    return clean_data\n",
        "\n",
        "  def parse_data(self, data: list) -> tuple:\n",
        "    \n",
        "    simulation_params = Simulation(*data[0])\n",
        "    simulation_params.product_weights = data[2]\n",
        "\n",
        "    N_W = data[3][0]\n",
        "    W_def_end = 4+N_W*2  \n",
        "\n",
        "    W_data = np.reshape(data[4:W_def_end], [N_W, 2])\n",
        "    for idx, line in enumerate(W_data):\n",
        "      simulation_params.warehouses.append(Warehouse(*line, idx))\n",
        "\n",
        "    N_orders = int(data[W_def_end][0])\n",
        "    C_data = np.reshape(\n",
        "        data[W_def_end+1: 1+W_def_end+N_orders*3], #This looks yucky\n",
        "        [N_orders, 3]\n",
        "        )\n",
        "    for idx, C in enumerate(C_data):\n",
        "      simulation_params.orders.append(CustomerOrder(C[0], C[2], id=idx))\n",
        "\n",
        "    return simulation_params"
      ],
      "execution_count": null,
      "outputs": []
    },
    {
      "cell_type": "code",
      "metadata": {
        "colab": {
          "base_uri": "https://localhost:8080/"
        },
        "id": "q33GWGvcBqGV",
        "outputId": "ea8423af-22fe-41a2-8202-a95a7defa735"
      },
      "source": [
        "parser = InputFileParser()\n",
        "\n",
        "# May need to replace with your own path? Not sure how collaborative file permissions work \n",
        "sim_params = parser(\"/content/sample_data/busy_day.in\")\n",
        "\n",
        "print(sim_params.orders[0])"
      ],
      "execution_count": null,
      "outputs": [
        {
          "output_type": "stream",
          "text": [
            "CustomerOrder 0\n",
            "Located at:[340 371]\n",
            "Products:[226, 183, 6, 220, 299, 280, 12, 42]\n",
            "\n"
          ],
          "name": "stdout"
        }
      ]
    },
    {
      "cell_type": "code",
      "metadata": {
        "id": "Lsg0Ia_2U3GM"
      },
      "source": [
        "def get_axes(sim_params):\n",
        "    fig, ax  = plt.subplots()\n",
        "\n",
        "    plt.xlim([0,sim_params.n_rows])\n",
        "    plt.ylim([0,sim_params.n_columns])\n",
        "    ax.set_aspect(sim_params.n_rows/sim_params.n_columns)\n",
        "\n",
        "    return fig, ax\n",
        "\n",
        "def plot_warehouses(sim_params, \n",
        "                    ax=None):\n",
        "\n",
        "  if ax is None:\n",
        "    fig, ax = get_axes(sim_params)\n",
        "\n",
        "  for W in sim_params.warehouses:\n",
        "    ax.scatter(W.coords[0],W.coords[1], marker=\"o\", c=\"k\")\n",
        "\n",
        "  return ax\n",
        "\n",
        "\n",
        "def plot_orders(sim_params, \n",
        "                    ax=None):\n",
        "  if ax is None:\n",
        "    fig, ax = get_axes(sim_params)\n",
        "\n",
        "  for O in sim_params.orders:\n",
        "    ax.scatter(O.coords[0], O.coords[1], marker=\"x\", c=\"c\", alpha=0.3)\n",
        "\n",
        "  return ax\n"
      ],
      "execution_count": null,
      "outputs": []
    },
    {
      "cell_type": "code",
      "metadata": {
        "colab": {
          "base_uri": "https://localhost:8080/",
          "height": 269
        },
        "id": "B9qRDRamSyS8",
        "outputId": "e6a75bec-9f5f-4055-c6e5-0fd7da9f7721"
      },
      "source": [
        "fig, ax = get_axes(sim_params)\n",
        "plot_orders(sim_params, ax)\n",
        "plot_warehouses(sim_params, ax)\n",
        "plt.show()"
      ],
      "execution_count": null,
      "outputs": [
        {
          "output_type": "display_data",
          "data": {
            "image/png": "[encoded data removed]",
            "text/plain": [
              "<Figure size 432x288 with 1 Axes>"
            ]
          },
          "metadata": {
            "tags": [],
            "needs_background": "light"
          }
        }
      ]
    },
    {
      "cell_type": "code",
      "metadata": {
        "id": "RQt_Ipv3c3jw"
      },
      "source": [
        "class TestDataWriter():\n",
        "  \"\"\"\n",
        "  Class to write randomised test data in the correct format\n",
        "  \n",
        "\n",
        "  Currently uses the default dist\n",
        "  \"\"\"\n",
        "  def __init__(self, \n",
        "               n_rows: int = 1E4, \n",
        "               n_columns: int = 1E4, \n",
        "               D: int = 1E3, \n",
        "               deadline: int = 1E6, \n",
        "               D_max_load: int = 1E4,\n",
        "               warehouses: int = 1E5,\n",
        "               products: int = 1E5,\n",
        "               orders: int = 1E5\n",
        "               ) -> None:\n",
        "\n",
        "    self.n_rows = np.random.randint(n_rows/2, n_rows)\n",
        "    self.n_columns = np.random.randint(n_columns/2, n_columns)\n",
        "    self.D = np.random.randint(D/2, D)\n",
        "    self.deadline = np.random.randint(deadline/2, deadline)\n",
        "    self.D_max_load = np.random.randint(D_max_load/2, D_max_load)\n",
        "\n",
        "    self.product_weights = np.random.randint(1, self.D_max_load, products)\n",
        "\n",
        "    self.warehouses = []\n",
        "    self.orders = []\n",
        "\n",
        "    self.generate_data(warehouses, products, orders)\n",
        "\n",
        "    self.OUTPUT = []\n",
        "\n",
        "    self.get_output()\n",
        "\n",
        "  def rand_coord(self)-> list:\n",
        "\n",
        "    return \" \".join([str(np.random.randint(self.n_rows)), str(np.random.randint(self.n_columns))])\n",
        "\n",
        "  def generate_data(self, \n",
        "                    warehouses: int, \n",
        "                    products: int, \n",
        "                    orders: int) -> None:\n",
        "\n",
        "    for W in range(warehouses):\n",
        "      self.warehouses.append(self.rand_coord()) # coordinate\n",
        "      self.warehouses.append(\n",
        "          \" \".join([str(a) for a in np.random.randint(1, orders*2, products)])\n",
        "          ) # Number of products\n",
        "    \n",
        "    for O in range(orders):\n",
        "      self.orders.append(self.rand_coord())\n",
        "      n_items = np.random.randint(1, products)\n",
        "      self.orders.append(str(n_items))\n",
        "      self.orders.append(\n",
        "          \" \".join([str(a) for a in np.random.randint(1,10,n_items)])\n",
        "          ) # Number of orders\n",
        "\n",
        "  def get_output(self) -> None:\n",
        "    \n",
        "    # various parameters\n",
        "    self.OUTPUT.append(\n",
        "        \" \".join([str(a) for a in [self.n_rows, self.n_columns, self.D, \n",
        "                                   self.deadline, self.D_max_load]])\n",
        "        )\n",
        "    \n",
        "    # product number and weights\n",
        "    self.OUTPUT.append(str(len(self.product_weights)))\n",
        "    self.OUTPUT.append(\" \".join([str(a) for a in self.product_weights]))\n",
        "\n",
        "    # warehouses\n",
        "    self.OUTPUT.append(str(int(len(self.warehouses)/2)))\n",
        "    self.warehouses = \"\\n\".join(self.warehouses)\n",
        "    self.OUTPUT.append(self.warehouses)\n",
        "\n",
        "    # orders\n",
        "    self.OUTPUT.append(str(int(len(self.orders)/3)))\n",
        "    self.orders = \"\\n\".join(self.orders)\n",
        "    self.OUTPUT.append(self.orders)\n",
        "\n",
        "    # format output for writing\n",
        "    self.OUTPUT = \"\\n\".join(self.OUTPUT)\n",
        "\n",
        "  def write(self, filename):\n",
        "\n",
        "    with open(filename, \"w\") as fn:\n",
        "      fn.write(self.OUTPUT)\n"
      ],
      "execution_count": null,
      "outputs": []
    },
    {
      "cell_type": "code",
      "metadata": {
        "id": "AoUOVdLop0ni"
      },
      "source": [
        "test = TestDataWriter(\n",
        "               n_rows = 100, \n",
        "               n_columns = 100, \n",
        "               D = 10, \n",
        "               deadline = 10000, \n",
        "               D_max_load = 100,\n",
        "               warehouses = 5,\n",
        "               products = 10,\n",
        "               orders = 50\n",
        "               )\n",
        "\n",
        "# print(test.OUTPUT)\n",
        "test.write(\"/content/sample_data/test.txt\")"
      ],
      "execution_count": null,
      "outputs": []
    },
    {
      "cell_type": "code",
      "metadata": {
        "colab": {
          "base_uri": "https://localhost:8080/",
          "height": 269
        },
        "id": "9fAiQrGhOnmK",
        "outputId": "f8ded9e5-a3e1-458d-b750-2e7e57af7738"
      },
      "source": [
        "parser = InputFileParser()\n",
        "\n",
        "# May need to replace with your own path? Not sure how collaborative file permissions work \n",
        "sim_params = parser(\"/content/sample_data/test.txt\")\n",
        "\n",
        "fig, ax = get_axes(sim_params)\n",
        "plot_orders(sim_params, ax)\n",
        "plot_warehouses(sim_params, ax)\n",
        "plt.show()"
      ],
      "execution_count": null,
      "outputs": [
        {
          "output_type": "display_data",
          "data": {
            "image/png": "[encoded data removed]",
            "text/plain": [
              "<Figure size 432x288 with 1 Axes>"
            ]
          },
          "metadata": {
            "tags": [],
            "needs_background": "light"
          }
        }
      ]
    },
    {
      "cell_type": "code",
      "metadata": {
        "id": "hI6K5NjeOIsM"
      },
      "source": [
        "for W in sim_params.warehouses:\n",
        "    pass"
      ],
      "execution_count": null,
      "outputs": []
    },
    {
      "cell_type": "code",
      "metadata": {
        "id": "uMpzEZEyU28V"
      },
      "source": [
        "class Drone():\n",
        "\n",
        "  def __init__(self, \n",
        "               coords: list, \n",
        "               id: int\n",
        "               simulation: Simulation,\n",
        "               ) -> None:\n",
        "    self.coords = coords\n",
        "    self.id = id\n",
        "    self.simulation = simulation\n",
        "    \n",
        "    self.busy_until = 0 # if > simulation.step, then drone is not free\n",
        "\n",
        "    self.inventory = []\n",
        "    self.command_history = []\n",
        "\n",
        "  @property\n",
        "  def free(self):\n",
        "    \"\"\"Used to indicate if the drone is currently free to accept a new command\"\"\"\n",
        "    return self.simulation.step >= self.busy_until  \n",
        "\n",
        "  def move(self, target) -> None:\n",
        "    \"\"\"Method to get the drone to move to a particular coordinate\"\"\"\n",
        "    if not isinstance(target, (list, np.ndarray)):\n",
        "      target_coords = target.coords\n",
        "\n",
        "    distance = np.ceil(get_dist(self.coords, target_coords))\n",
        "    self.busy_until = self.simulation.step + distance\n",
        "\n",
        "    self.coord = target.coords\n",
        "\n",
        "  def load(self, warehouse: Warehouse, product_id: int, N_items)-> None:\n",
        "    command_string = f\"{self.id} L {warehosue.id} {product_id} {N_items}\"\n",
        "    self.command_history.append(command_string)\n",
        "    self.move(warehosue.coords)    \n",
        "\n",
        "  def deliver(self, order: CustomerOrder, product_id: int, N_items)-> None:\n",
        "    command_string = f\"{self.id} D {order.id} {product_id} {N_items}\"\n",
        "    self.command_history.append(command_string)\n",
        "    self.move(coords)\n",
        "\n",
        "  def wait(self, turns: int) -> int:\n",
        "    command_string = f\"{self.id} W {turns}\"\n",
        "    self.command_history.append(command_string)\n",
        "\n",
        "  def __repr__(self):\n",
        "    rep = f\"Drone: {self.id}\\nLocation: {self.coords}\\nCarrying: {self.inventory}\\n\"\n",
        "    return rep\n",
        "\n"
      ],
      "execution_count": null,
      "outputs": []
    },
    {
      "cell_type": "code",
      "metadata": {
        "colab": {
          "base_uri": "https://localhost:8080/"
        },
        "id": "VfvnvXFwbS5s",
        "outputId": "d92f9d86-001b-4cac-e6a5-b5faec37a6c5"
      },
      "source": [
        "D0 = Drone(coords = np.zeros(2, dtype=int), id = 0, simulation=sim_params)\n",
        "\n",
        "D0"
      ],
      "execution_count": null,
      "outputs": [
        {
          "output_type": "execute_result",
          "data": {
            "text/plain": [
              "Drone: 0\n",
              "Location: [0 0]\n",
              "Carrying: []"
            ]
          },
          "metadata": {
            "tags": []
          },
          "execution_count": 73
        }
      ]
    },
    {
      "cell_type": "code",
      "metadata": {
        "colab": {
          "base_uri": "https://localhost:8080/"
        },
        "id": "2C5leu1AVVHd",
        "outputId": "336d9ed3-b7fa-4334-8ee1-2aad2fc6ad96"
      },
      "source": [
        "W0 = sim_params.warehouses[0]\n",
        "W1 = sim_params.warehouses[1]\n",
        "\n",
        "print(W0.coords - W1.coords)\n",
        "\n",
        "np.ceil(get_dist(W0, W1))"
      ],
      "execution_count": null,
      "outputs": [
        {
          "output_type": "stream",
          "text": [
            "[ 15 -25]\n"
          ],
          "name": "stdout"
        },
        {
          "output_type": "execute_result",
          "data": {
            "text/plain": [
              "30.0"
            ]
          },
          "metadata": {
            "tags": []
          },
          "execution_count": 78
        }
      ]
    },
    {
      "cell_type": "code",
      "metadata": {
        "colab": {
          "base_uri": "https://localhost:8080/"
        },
        "id": "BWWslYIBcILc",
        "outputId": "f577268a-79f0-466f-a073-1db810ef535e"
      },
      "source": [
        "a = np.zeros(3)\n",
        "\n",
        "print(type(a))\n",
        "list(a)\n",
        "\n",
        "isinstance(a, (np.ndarray, list))"
      ],
      "execution_count": null,
      "outputs": [
        {
          "output_type": "stream",
          "text": [
            "<class 'numpy.ndarray'>\n"
          ],
          "name": "stdout"
        },
        {
          "output_type": "execute_result",
          "data": {
            "text/plain": [
              "True"
            ]
          },
          "metadata": {
            "tags": []
          },
          "execution_count": 49
        }
      ]
    }
  ]
}