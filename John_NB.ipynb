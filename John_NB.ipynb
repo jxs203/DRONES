{
  "nbformat": 4,
  "nbformat_minor": 0,
  "metadata": {
    "colab": {
      "name": "John_NB.ipynb",
      "provenance": [],
      "collapsed_sections": [],
      "toc_visible": true,
      "mount_file_id": "18HbejHzr0Y4mfj1m8FEABbQaGH3QPBW0",
      "authorship_tag": "ABX9TyOvKiSI7azRYEsuhdOn73DH",
      "include_colab_link": true
    },
    "kernelspec": {
      "name": "python3",
      "display_name": "Python 3"
    }
  },
  "cells": [
    {
      "cell_type": "markdown",
      "metadata": {
        "id": "view-in-github",
        "colab_type": "text"
      },
      "source": [
        "<a href=\"https://colab.research.google.com/github/jxs203/DRONES/blob/master/John_NB.ipynb\" target=\"_parent\"><img src=\"https://colab.research.google.com/assets/colab-badge.svg\" alt=\"Open In Colab\"/></a>"
      ]
    },
    {
      "cell_type": "markdown",
      "metadata": {
        "id": "XR1rea8T_Y-5"
      },
      "source": [
        "#  Delivery\n",
        "#### Kaggle competition \n",
        "\n",
        "\n",
        "https://www.kaggle.com/c/hashcode-drone-delivery\n"
      ]
    },
    {
      "cell_type": "code",
      "metadata": {
        "id": "yXlZQMFv9JCU"
      },
      "source": [
        "# All the imports \n",
        "import os\n",
        "import numpy as np\n",
        "import matplotlib.pyplot as plt"
      ],
      "execution_count": 2,
      "outputs": []
    },
    {
      "cell_type": "code",
      "metadata": {
        "id": "wqonL5fGbWhk"
      },
      "source": [
        "def get_dist(obj_1, obj_2):\n",
        "  if not isinstance(obj_1, (list, np.ndarray)):\n",
        "    c1 = obj_1.coords\n",
        "  else:\n",
        "    c1 = obj_1\n",
        "  if not isinstance(obj_2, (list, np.ndarray)):\n",
        "    c2 = obj_2.coords\n",
        "  else:\n",
        "    c2 = obj_2\n",
        "  return np.linalg.norm(c1 - c2)"
      ],
      "execution_count": 3,
      "outputs": []
    },
    {
      "cell_type": "code",
      "metadata": {
        "id": "RoZvl3A26lDO"
      },
      "source": [
        "class Simulation():\n",
        "  \"\"\"Class containing the simulation definition\"\"\"\n",
        "  def __init__(self, \n",
        "               n_rows: int, \n",
        "               n_columns:int, \n",
        "               D: int, \n",
        "               deadline: int, \n",
        "               D_max_load: int,\n",
        "               ) -> None:\n",
        "    self.n_rows = n_rows\n",
        "    self.n_columns = n_columns\n",
        "    self.D = D\n",
        "    self.deadline = deadline\n",
        "    self.D_max_load = D_max_load\n",
        "\n",
        "    self.product_weights = []\n",
        "\n",
        "    self.warehouses = []\n",
        "    self.orders = []\n",
        "\n",
        "    self.step = 0\n",
        "\n",
        "  @property\n",
        "  def n_products(self) -> int:\n",
        "    return len(self.product_weights)\n",
        "\n",
        "  @property\n",
        "  def n_warehouses(self) -> int:\n",
        "    return len(self.warehouses)\n",
        "\n",
        "  @property\n",
        "  def n_orders(self) -> int:\n",
        "    return len(self.orders)\n",
        "\n",
        "  def __repr__(self)->str:\n",
        "    out_str  = f\"Rows: {self.n_rows}\\nColumns: {self.n_columns}\\n\"\n",
        "    out_str += f\"Drones: {self.D}\\nDeadline: {self.deadline}\\n\"\n",
        "    out_str += f\"Max Load: {self.D_max_load}\\nN products: {self.n_products}\\n\"\n",
        "    out_str += f\"N warehouses: {self.n_warehouses}\\nN orders: {self.n_orders}\"\n",
        "    \n",
        "    return out_str\n",
        "\n",
        "  def assign_orders(self):\n",
        "    pass\n",
        "\n",
        "class Warehouse():\n",
        "  def __init__(self, coords: list, stock: list, id: int) -> None:\n",
        "    self.coords = np.array(coords)\n",
        "    self.stock = stock\n",
        "    self.id = id\n",
        "\n",
        "  def __repr__(self) -> None:\n",
        "    out_str  = f\"Warehouse {self.id}\\nLocated at:{self.coords}\\n\"\n",
        "    out_str += f\"Stock:{self.stock}\\n\"\n",
        "    return out_str\n",
        "\n",
        "class CustomerOrder():\n",
        "  def __init__(self, coords, products, id: int):\n",
        "    self.coords = np.array(coords, dtype=int)\n",
        "    self.products = products\n",
        "    self.id = id\n",
        "\n",
        "  @property\n",
        "  def N_items(self)-> int:\n",
        "    return len(self.products)\n",
        "\n",
        "  def __repr__(self) -> None:\n",
        "    out_str  = f\"CustomerOrder {self.id}\\nLocated at:{self.coords}\\n\"\n",
        "    out_str += f\"Products:{self.products}\\n\"\n",
        "    return out_str\n",
        "\n",
        "\n",
        "class InputFileParser():\n",
        "  \"\"\"\n",
        "  Loads the datafile d_fn with format as specified in hashcode_delivery_instructions.pdf\n",
        "  \n",
        "  Args: \n",
        "    d_fn (str): The filepath (absolute or relative) pointing to the data file\n",
        "  \n",
        "  Returns: \n",
        "    something (): Simulation definition object?\n",
        "    P_weights (list[int]): Item weights\n",
        "\n",
        "\n",
        "  Example: \n",
        "    parser = InputFileParser()\n",
        "    # create object\n",
        "    my_data = parser(\"path_to_datafile.csv\")\n",
        "    # Call as if it were a function\n",
        "\n",
        "  \"\"\"\n",
        "  def __call__(self, d_fn)-> tuple:\n",
        "    raw_data = self.load_data_file(d_fn)\n",
        "    \n",
        "    data = self.clean_raw_data(raw_data)\n",
        "    return self.parse_data(data)\n",
        "\n",
        "  def load_data_file(self, d_fn: str)-> list:\n",
        "    fn = os.path.abspath(d_fn)\n",
        "    with open(fn) as _f:\n",
        "      rawdata = _f.readlines()\n",
        "    return rawdata\n",
        "\n",
        "  def clean_raw_data(self, rawdata: list) -> list:\n",
        "    clean_data = []\n",
        "    for line in rawdata: \n",
        "      line = line.strip()\n",
        "      line = [int(x) for x in line.split(\" \")]\n",
        "      clean_data.append(line)\n",
        "    return clean_data\n",
        "\n",
        "  def parse_data(self, data: list) -> tuple:\n",
        "    \n",
        "    simulation_params = Simulation(*data[0])\n",
        "    simulation_params.product_weights = data[2]\n",
        "\n",
        "    N_W = data[3][0]\n",
        "    W_def_end = 4+N_W*2  \n",
        "\n",
        "    W_data = np.reshape(data[4:W_def_end], [N_W, 2])\n",
        "    for idx, line in enumerate(W_data):\n",
        "      simulation_params.warehouses.append(Warehouse(*line, idx))\n",
        "\n",
        "    N_orders = int(data[W_def_end][0])\n",
        "    C_data = np.reshape(\n",
        "        data[W_def_end+1: 1+W_def_end+N_orders*3], #This looks yucky\n",
        "        [N_orders, 3]\n",
        "        )\n",
        "    for idx, C in enumerate(C_data):\n",
        "      simulation_params.orders.append(CustomerOrder(C[0], C[2], id=idx))\n",
        "\n",
        "    return simulation_params"
      ],
      "execution_count": 4,
      "outputs": []
    },
    {
      "cell_type": "code",
      "metadata": {
        "colab": {
          "base_uri": "https://localhost:8080/"
        },
        "id": "q33GWGvcBqGV",
        "outputId": "ed1a56a4-9e18-49c1-d11a-74ec2c1e7a90"
      },
      "source": [
        "parser = InputFileParser()\n",
        "\n",
        "# May need to replace with your own path? Not sure how collaborative file permissions work \n",
        "sim_params = parser(\"/content/drive/MyDrive/Kaggle_data/busy_day.in\")\n",
        "\n",
        "print(sim_params.orders[0])"
      ],
      "execution_count": 11,
      "outputs": [
        {
          "output_type": "stream",
          "text": [
            "CustomerOrder 0\n",
            "Located at:[340 371]\n",
            "Products:[226, 183, 6, 220, 299, 280, 12, 42]\n",
            "\n"
          ],
          "name": "stdout"
        }
      ]
    },
    {
      "cell_type": "code",
      "metadata": {
        "id": "Lsg0Ia_2U3GM"
      },
      "source": [
        "def get_axes(sim_params):\n",
        "    fig, ax  = plt.subplots()\n",
        "\n",
        "    plt.xlim([0,sim_params.n_rows])\n",
        "    plt.ylim([0,sim_params.n_columns])\n",
        "    ax.set_aspect(sim_params.n_rows/sim_params.n_columns)\n",
        "\n",
        "    return fig, ax\n",
        "\n",
        "def plot_warehouses(sim_params, \n",
        "                    ax=None):\n",
        "\n",
        "  if ax is None:\n",
        "    fig, ax = get_axes(sim_params)\n",
        "\n",
        "  for W in sim_params.warehouses:\n",
        "    ax.scatter(W.coords[0],W.coords[1], marker=\"o\", c=\"k\")\n",
        "\n",
        "  return ax\n",
        "\n",
        "\n",
        "def plot_orders(sim_params, \n",
        "                    ax=None):\n",
        "  if ax is None:\n",
        "    fig, ax = get_axes(sim_params)\n",
        "\n",
        "  for O in sim_params.orders:\n",
        "    ax.scatter(O.coords[0], O.coords[1], marker=\"x\", c=\"c\", alpha=0.3)\n",
        "\n",
        "  return ax\n"
      ],
      "execution_count": 12,
      "outputs": []
    },
    {
      "cell_type": "code",
      "metadata": {
        "colab": {
          "base_uri": "https://localhost:8080/",
          "height": 269
        },
        "id": "B9qRDRamSyS8",
        "outputId": "a886a68f-7e4b-4f40-930f-3fe56467f4c9"
      },
      "source": [
        "fig, ax = get_axes(sim_params)\n",
        "plot_orders(sim_params, ax)\n",
        "plot_warehouses(sim_params, ax)\n",
        "plt.show()"
      ],
      "execution_count": 13,
      "outputs": [
        {
          "output_type": "display_data",
          "data": {
            "image/png": "[encoded data removed]",
            "text/plain": [
              "<Figure size 432x288 with 1 Axes>"
            ]
          },
          "metadata": {
            "tags": [],
            "needs_background": "light"
          }
        }
      ]
    },
    {
      "cell_type": "code",
      "metadata": {
        "id": "RQt_Ipv3c3jw"
      },
      "source": [
        "class TestDataWriter():\n",
        "  \"\"\"\n",
        "  Class to write randomised test data in the correct format\n",
        "  \n",
        "\n",
        "  Currently uses the default dist\n",
        "  \"\"\"\n",
        "  def __init__(self, \n",
        "               n_rows: int = 1E4, \n",
        "               n_columns: int = 1E4, \n",
        "               D: int = 1E3, \n",
        "               deadline: int = 1E6, \n",
        "               D_max_load: int = 1E4,\n",
        "               warehouses: int = 1E5,\n",
        "               products: int = 1E5,\n",
        "               orders: int = 1E5\n",
        "               ) -> None:\n",
        "\n",
        "    self.n_rows = np.random.randint(n_rows/2, n_rows)\n",
        "    self.n_columns = np.random.randint(n_columns/2, n_columns)\n",
        "    self.D = np.random.randint(D/2, D)\n",
        "    self.deadline = np.random.randint(deadline/2, deadline)\n",
        "    self.D_max_load = np.random.randint(D_max_load/2, D_max_load)\n",
        "\n",
        "    self.product_weights = np.random.randint(1, self.D_max_load, products)\n",
        "\n",
        "    self.warehouses = []\n",
        "    self.orders = []\n",
        "\n",
        "    self.generate_data(warehouses, products, orders)\n",
        "\n",
        "    self.OUTPUT = []\n",
        "\n",
        "    self.get_output()\n",
        "\n",
        "  def rand_coord(self)-> list:\n",
        "\n",
        "    return \" \".join([str(np.random.randint(self.n_rows)), str(np.random.randint(self.n_columns))])\n",
        "\n",
        "  def generate_data(self, \n",
        "                    warehouses: int, \n",
        "                    products: int, \n",
        "                    orders: int) -> None:\n",
        "\n",
        "    for W in range(warehouses):\n",
        "      self.warehouses.append(self.rand_coord()) # coordinate\n",
        "      self.warehouses.append(\n",
        "          \" \".join([str(a) for a in np.random.randint(1, orders*2, products)])\n",
        "          ) # Number of products\n",
        "    \n",
        "    for O in range(orders):\n",
        "      self.orders.append(self.rand_coord())\n",
        "      n_items = np.random.randint(1, products)\n",
        "      self.orders.append(str(n_items))\n",
        "      self.orders.append(\n",
        "          \" \".join([str(a) for a in np.random.randint(1,10,n_items)])\n",
        "          ) # Number of orders\n",
        "\n",
        "  def get_output(self) -> None:\n",
        "    \n",
        "    # various parameters\n",
        "    self.OUTPUT.append(\n",
        "        \" \".join([str(a) for a in [self.n_rows, self.n_columns, self.D, \n",
        "                                   self.deadline, self.D_max_load]])\n",
        "        )\n",
        "    \n",
        "    # product number and weights\n",
        "    self.OUTPUT.append(str(len(self.product_weights)))\n",
        "    self.OUTPUT.append(\" \".join([str(a) for a in self.product_weights]))\n",
        "\n",
        "    # warehouses\n",
        "    self.OUTPUT.append(str(int(len(self.warehouses)/2)))\n",
        "    self.warehouses = \"\\n\".join(self.warehouses)\n",
        "    self.OUTPUT.append(self.warehouses)\n",
        "\n",
        "    # orders\n",
        "    self.OUTPUT.append(str(int(len(self.orders)/3)))\n",
        "    self.orders = \"\\n\".join(self.orders)\n",
        "    self.OUTPUT.append(self.orders)\n",
        "\n",
        "    # format output for writing\n",
        "    self.OUTPUT = \"\\n\".join(self.OUTPUT)\n",
        "\n",
        "  def write(self, filename):\n",
        "\n",
        "    with open(filename, \"w\") as fn:\n",
        "      fn.write(self.OUTPUT)\n"
      ],
      "execution_count": 14,
      "outputs": []
    },
    {
      "cell_type": "code",
      "metadata": {
        "id": "AoUOVdLop0ni"
      },
      "source": [
        "test = TestDataWriter(\n",
        "               n_rows = 100, \n",
        "               n_columns = 100, \n",
        "               D = 10, \n",
        "               deadline = 10000, \n",
        "               D_max_load = 100,\n",
        "               warehouses = 14,\n",
        "               products = 10,\n",
        "               orders = 50\n",
        "               )\n",
        "\n",
        "# print(test.OUTPUT)\n",
        "test.write(\"/content/sample_data/test.txt\")"
      ],
      "execution_count": 20,
      "outputs": []
    },
    {
      "cell_type": "code",
      "metadata": {
        "colab": {
          "base_uri": "https://localhost:8080/",
          "height": 265
        },
        "id": "9fAiQrGhOnmK",
        "outputId": "42cb42c6-ed01-4708-90d4-71656f399dfc"
      },
      "source": [
        "parser = InputFileParser()\n",
        "\n",
        "# May need to replace with your own path? Not sure how collaborative file permissions work \n",
        "sim_params = parser(\"/content/sample_data/test.txt\")\n",
        "\n",
        "fig, ax = get_axes(sim_params)\n",
        "plot_orders(sim_params, ax)\n",
        "plot_warehouses(sim_params, ax)\n",
        "plt.show()"
      ],
      "execution_count": 21,
      "outputs": [
        {
          "output_type": "display_data",
          "data": {
            "image/png": "[encoded data removed]",
            "text/plain": [
              "<Figure size 432x288 with 1 Axes>"
            ]
          },
          "metadata": {
            "tags": [],
            "needs_background": "light"
          }
        }
      ]
    },
    {
      "cell_type": "code",
      "metadata": {
        "id": "uMpzEZEyU28V"
      },
      "source": [
        "class DroneOverWeightError(Exception):\n",
        "  pass\n",
        "\n",
        "class DroneUnderWeightError(Exception):\n",
        "  pass\n",
        "\n",
        "class Drone():\n",
        "\n",
        "  def __init__(self, \n",
        "               coords: list, \n",
        "               id: int,\n",
        "               simulation: Simulation,\n",
        "               ) -> None:\n",
        "    self.coords = coords\n",
        "    self.id = id\n",
        "    self.simulation = simulation\n",
        "    \n",
        "    self.max_weight = self.simulation.D_max_load\n",
        "\n",
        "    self.busy_until = 0 # if > simulation.step, then drone is not free\n",
        "\n",
        "    self.inventory = {} # inventory stored as product_id:number_carried\n",
        "    self.command_history = [] #list of all commands stored\n",
        "\n",
        "  @property\n",
        "  def free(self):\n",
        "    \"\"\"Used to indicate if the drone is currently free to accept a new command\"\"\"\n",
        "    return self.simulation.step >= self.busy_until  \n",
        "\n",
        "  def move(self, target) -> None:\n",
        "    \"\"\"Method to get the drone to move to a particular coordinate\"\"\"\n",
        "    if not isinstance(target, (list, np.ndarray)):\n",
        "      target_coords = target.coords\n",
        "    else:\n",
        "      target_coords = target\n",
        "    \n",
        "    distance = np.ceil(get_dist(self.coords, target_coords))\n",
        "\n",
        "    self.busy_until = self.simulation.step + distance\n",
        "\n",
        "    self.coords = target_coords\n",
        "\n",
        "  def load(self, warehouse: Warehouse, product_id: int, N_items)-> None:\n",
        "    command_string = f\"{self.id} L {warehouse.id} {product_id} {N_items}\"\n",
        "    self.command_history.append(command_string)\n",
        "    self.move(warehouse.coords)    \n",
        "    self.busy_until += 1\n",
        "\n",
        "    if product_id not in self.inventory:\n",
        "      self.inventory[product_id] = N_items\n",
        "    else:\n",
        "      self.inventory[product_id] += N_items\n",
        "    \n",
        "    self.check_weight()\n",
        "         \n",
        "  def check_weight(self):\n",
        "\n",
        "    if self.weight > self.max_weight:\n",
        "      raise DroneOverWeightError(\n",
        "          f\"Drone {self.id} on turn {self.simulation.step} has weight of {self.weight}/{self.max_weight}\"\n",
        "          )\n",
        "    elif self.weight < 0:\n",
        "      raise DroneUnderWeightError(\n",
        "          f\"Drone {self.id} on turn {self.simulation.step} has weight of {self.weight}/{self.max_weight}\"\n",
        "          )\n",
        "\n",
        "  def deliver(self, order: (CustomerOrder, Warehouse), product_id: int, N_items)-> None:\n",
        "    command_string = f\"{self.id} D {order.id} {product_id} {N_items}\"\n",
        "    self.command_history.append(command_string)\n",
        "    self.move(order.coords)\n",
        "    self.busy_until += 1\n",
        "    \n",
        "    self.inventory[product_id] -= N_items\n",
        "\n",
        "    self.check_weight()\n",
        "\n",
        "  def wait(self, turns: int) -> int:\n",
        "    command_string = f\"{self.id} W {turns}\"\n",
        "    self.command_history.append(command_string)\n",
        "    self.busy_until += self.simulation.turn + turns\n",
        "\n",
        "  def __repr__(self):\n",
        "    rep = f\"Drone: {self.id}\\nLocation: {self.coords}\\nInventory: {self.inventory}\\n\"\n",
        "    rep += f\"Load: {self.weight}/{self.simulation.D_max_load}\"\n",
        "    return rep\n",
        "\n",
        "  @property\n",
        "  def weight(self):\n",
        "    weight = 0\n",
        "    for p in self.inventory.keys():\n",
        "      weight += self.inventory[p] * self.simulation.product_weights[p] \n",
        "    return weight\n",
        "\n"
      ],
      "execution_count": 51,
      "outputs": []
    },
    {
      "cell_type": "code",
      "metadata": {
        "colab": {
          "base_uri": "https://localhost:8080/"
        },
        "id": "VfvnvXFwbS5s",
        "outputId": "27627cff-4895-49a8-d52e-0fee89459620"
      },
      "source": [
        "print(\"Initialise drone 0:\")\n",
        "D0 = Drone(coords = np.zeros(2, dtype=int), id = 0, simulation=sim_params)\n",
        "print(D0)\n",
        "print(\"~~~~~~~~~~~\")\n",
        "\n",
        "print(\"Load drone 0:\")\n",
        "try: \n",
        "  D0.load(sim_params.warehouses[5], 0, 5)\n",
        "except DroneOverWeightError as E:\n",
        "  print(f\"Encountered DroneOverWeightError: {E}\")\n",
        "  print(D0)\n",
        "  print(D0.weight)\n",
        "  D0.inventory = {}\n",
        "print(\"###\")\n",
        "print(\"Reverting, and loading less:\")\n",
        "D0.load(sim_params.warehouses[5], 0, 2)\n",
        "print(D0)\n",
        "print(D0.weight)\n",
        "print(\"~~~~~~~~~~~\")\n",
        "\n",
        "print(\"Unload drone 0 at a different warehouse:\")\n",
        "try: \n",
        "  D0.deliver(sim_params.warehouses[0], 0, 5)\n",
        "except DroneUnderWeightError as E:\n",
        "  print(f\"Encountered DroneUnderWeightError: {E}\")\n",
        "  print(D0)\n",
        "  print(D0.weight)\n",
        "  D0.inventory = {0: 2}\n",
        "print(\"###\")\n",
        "print(\"Reverting, and delivering less:\")\n",
        "D0.deliver(sim_params.warehouses[0], 0, 2)\n",
        "print(D0)\n",
        "print(D0.weight)"
      ],
      "execution_count": 59,
      "outputs": [
        {
          "output_type": "stream",
          "text": [
            "Initialise drone 0:\n",
            "Drone: 0\n",
            "Location: [0 0]\n",
            "Inventory: {}\n",
            "Load: 0/62\n",
            "~~~~~~~~~~~\n",
            "Load drone 0:\n",
            "Encountered DroneOverWeightError: Drone 0 on turn 0 has weight of 120/62\n",
            "Drone: 0\n",
            "Location: [ 7 23]\n",
            "Inventory: {0: 5}\n",
            "Load: 120/62\n",
            "120\n",
            "###\n",
            "Reverting, and loading less:\n",
            "Drone: 0\n",
            "Location: [ 7 23]\n",
            "Inventory: {0: 2}\n",
            "Load: 48/62\n",
            "48\n",
            "~~~~~~~~~~~\n",
            "Unload drone 0 at a different warehouse:\n",
            "Encountered DroneUnderWeightError: Drone 0 on turn 0 has weight of -72/62\n",
            "Drone: 0\n",
            "Location: [91 35]\n",
            "Inventory: {0: -3}\n",
            "Load: -72/62\n",
            "-72\n",
            "###\n",
            "Reverting, and delivering less:\n",
            "Drone: 0\n",
            "Location: [91 35]\n",
            "Inventory: {0: 0}\n",
            "Load: 0/62\n",
            "0\n"
          ],
          "name": "stdout"
        }
      ]
    },
    {
      "cell_type": "code",
      "metadata": {
        "colab": {
          "base_uri": "https://localhost:8080/"
        },
        "id": "2C5leu1AVVHd",
        "outputId": "336d9ed3-b7fa-4334-8ee1-2aad2fc6ad96"
      },
      "source": [
        "W0 = sim_params.warehouses[0]\n",
        "W1 = sim_params.warehouses[1]\n",
        "\n",
        "print(W0.coords - W1.coords)\n",
        "\n",
        "np.ceil(get_dist(W0, W1))"
      ],
      "execution_count": null,
      "outputs": [
        {
          "output_type": "stream",
          "text": [
            "[ 15 -25]\n"
          ],
          "name": "stdout"
        },
        {
          "output_type": "execute_result",
          "data": {
            "text/plain": [
              "30.0"
            ]
          },
          "metadata": {
            "tags": []
          },
          "execution_count": 78
        }
      ]
    },
    {
      "cell_type": "code",
      "metadata": {
        "colab": {
          "base_uri": "https://localhost:8080/"
        },
        "id": "BWWslYIBcILc",
        "outputId": "f577268a-79f0-466f-a073-1db810ef535e"
      },
      "source": [
        "a = np.zeros(3)\n",
        "\n",
        "print(type(a))\n",
        "list(a)\n",
        "\n",
        "isinstance(a, (np.ndarray, list))"
      ],
      "execution_count": null,
      "outputs": [
        {
          "output_type": "stream",
          "text": [
            "<class 'numpy.ndarray'>\n"
          ],
          "name": "stdout"
        },
        {
          "output_type": "execute_result",
          "data": {
            "text/plain": [
              "True"
            ]
          },
          "metadata": {
            "tags": []
          },
          "execution_count": 49
        }
      ]
    }
  ]
}